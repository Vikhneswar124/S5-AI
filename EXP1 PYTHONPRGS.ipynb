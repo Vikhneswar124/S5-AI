{
 "cells": [
  {
   "cell_type": "code",
   "execution_count": 1,
   "id": "d6d29f93-f528-4013-be57-ac931711cbfb",
   "metadata": {},
   "outputs": [
    {
     "name": "stdout",
     "output_type": "stream",
     "text": [
      "hello world\n"
     ]
    }
   ],
   "source": [
    "print(\"hello world\")\n"
   ]
  },
  {
   "cell_type": "code",
   "execution_count": 2,
   "id": "7ced5229-8de2-464d-842a-44961550c8fb",
   "metadata": {},
   "outputs": [
    {
     "name": "stdout",
     "output_type": "stream",
     "text": [
      "<class 'int'> \n",
      " <class 'float'> \n",
      " <class 'str'>\n",
      "\n",
      " 10 + 5.5  =  15.5 \n",
      " Pythonis fun\n"
     ]
    }
   ],
   "source": [
    "a=10\n",
    "b=5.5\n",
    "c=\"Python\"\n",
    "d=\"is fun\"\n",
    "print(type(a), \"\\n\",type(b), \"\\n\",type(c))\n",
    "print(\"\\n\",a,\"+\",b, \" = \", a+b,\"\\n\",c+d)\n"
   ]
  },
  {
   "cell_type": "code",
   "execution_count": 3,
   "id": "1c057ce3-a180-4150-9e5d-c0524e5181aa",
   "metadata": {},
   "outputs": [
    {
     "name": "stdin",
     "output_type": "stream",
     "text": [
      "Enter the 1st input: 3\n",
      "enter the 2nd input: 3\n",
      "enter the preferrable calculation you want to perform on the two numbers:\n",
      "1.Add\n",
      "2.subtarct\n",
      "3.Multiply\n",
      "4.Divide\n",
      "5.Floor Divide\n",
      "6.Modulo\n",
      "7.Exponentiation\n",
      ":: 1\n"
     ]
    },
    {
     "name": "stdout",
     "output_type": "stream",
     "text": [
      "Sum of  3  +  3  =  6\n"
     ]
    }
   ],
   "source": [
    "a=int(input(\"Enter the 1st input:\"))\n",
    "b=int(input(\"enter the 2nd input:\"))\n",
    "c=int(input(\"enter the preferrable calculation you want to perform on the two numbers:\\n1.Add\\n2.subtarct\\n3.Multiply\\n4.Divide\\n5.Floor Divide\\n6.Modulo\\n7.Exponentiation\\n::\"))\n",
    "if c == 1:\n",
    "\tprint(\"Sum of \",a,\" + \",b,\" = \",a+b)\n",
    "elif c == 2:\n",
    "\tif a > b:\n",
    "\t\tprint(\"Difference of \",a,\" and \",b,\" = \",a-b)\n",
    "\telse:\n",
    "\t\tprint(\"Difference of \",a,\" and \",b,\" = \",b-a)\n",
    "elif c == 3:\n",
    "\tprint(\"Product of \",a,\" and \",b,\" = \",a*b)\n",
    "elif c == 4:\n",
    "\tprint(\"Quotient of \",a,\" and \",b,\" = \",a/b)\n",
    "elif c == 5:\n",
    "\tprint(\"Floor Quotient of \",a,\" and \",b,\" = \",abs(a//b))\n",
    "else:\n",
    "\tprint(\"enter a valid option\")\n",
    "\t\n"
   ]
  },
  {
   "cell_type": "code",
   "execution_count": 4,
   "id": "a8cfcc5d-67f7-43e1-a8f6-aef9d6915748",
   "metadata": {},
   "outputs": [
    {
     "name": "stdout",
     "output_type": "stream",
     "text": [
      "You can go outside.\n",
      "No need to carry an umbrella.\n"
     ]
    }
   ],
   "source": [
    "# Boolean variables\n",
    "is_sunny = True\n",
    "have_umbrella = False\n",
    "\n",
    "# Decision to go outside\n",
    "if is_sunny or have_umbrella:\n",
    "    print(\"You can go outside.\")\n",
    "else:\n",
    "    print(\"You should stay inside.\")\n",
    "\n",
    "# Decision to carry an umbrella\n",
    "if not is_sunny:\n",
    "    print(\"You should carry an umbrella.\")\n",
    "else:\n",
    "    print(\"No need to carry an umbrella.\")\n",
    "\n"
   ]
  },
  {
   "cell_type": "code",
   "execution_count": 5,
   "id": "8c9e902e-4b5d-42d9-86e9-e1f81124d59f",
   "metadata": {},
   "outputs": [
    {
     "name": "stdin",
     "output_type": "stream",
     "text": [
      "Enter a number:  33\n"
     ]
    },
    {
     "name": "stdout",
     "output_type": "stream",
     "text": [
      "Positive number\n"
     ]
    }
   ],
   "source": [
    "# Ask user to input a number\n",
    "num = float(input(\"Enter a number: \"))\n",
    "\n",
    "# Check if the number is positive, zero, or negative\n",
    "if num > 0:\n",
    "    print(\"Positive number\")\n",
    "elif num == 0:\n",
    "    print(\"Zero\")\n",
    "else:\n",
    "    print(\"Negative number\")\n",
    "\n"
   ]
  },
  {
   "cell_type": "code",
   "execution_count": 6,
   "id": "c73e0365-dda8-4f87-ae82-d52536d7c625",
   "metadata": {},
   "outputs": [
    {
     "name": "stdin",
     "output_type": "stream",
     "text": [
      "Enter the student's marks (out of 100):  99\n"
     ]
    },
    {
     "name": "stdout",
     "output_type": "stream",
     "text": [
      "Grade A\n"
     ]
    }
   ],
   "source": [
    "# Get marks input from user\n",
    "marks = float(input(\"Enter the student's marks (out of 100): \"))\n",
    "\n",
    "# Check and print the grade\n",
    "if marks >= 90:\n",
    "    print(\"Grade A\")\n",
    "elif 75 <= marks < 90:\n",
    "    print(\"Grade B\")\n",
    "elif 60 <= marks < 75:\n",
    "    print(\"Grade C\")\n",
    "elif 40 <= marks < 60:\n",
    "    print(\"Grade D\")\n",
    "else:\n",
    "    print(\"Fail\")\n",
    "\n"
   ]
  },
  {
   "cell_type": "code",
   "execution_count": 7,
   "id": "9277cf29-3959-44cd-afb8-720cfb4274ad",
   "metadata": {},
   "outputs": [
    {
     "name": "stdin",
     "output_type": "stream",
     "text": [
      "Enter the first number:  1\n",
      "Enter the second number:  1\n",
      "Enter the operation (+, -, *, /):  -\n"
     ]
    },
    {
     "name": "stdout",
     "output_type": "stream",
     "text": [
      "Result: 0.0\n"
     ]
    }
   ],
   "source": [
    "# Ask the user for input\n",
    "num1 = float(input(\"Enter the first number: \"))\n",
    "num2 = float(input(\"Enter the second number: \"))\n",
    "operation = input(\"Enter the operation (+, -, *, /): \")\n",
    "\n",
    "# Perform the operation\n",
    "if operation == '+':\n",
    "    result = num1 + num2\n",
    "    print(\"Result:\", result)\n",
    "elif operation == '-':\n",
    "    result = num1 - num2\n",
    "    print(\"Result:\", result)\n",
    "elif operation == '*':\n",
    "    result = num1 * num2\n",
    "    print(\"Result:\", result)\n",
    "elif operation == '/':\n",
    "    if num2 != 0:\n",
    "        result = num1 / num2\n",
    "        print(\"Result:\", result)\n",
    "    else:\n",
    "        print(\"Error: Cannot divide by zero.\")\n",
    "else:\n",
    "    print(\"Invalid operation\")\n",
    "    \n"
   ]
  },
  {
   "cell_type": "code",
   "execution_count": 8,
   "id": "7067eee3-10c8-4585-8db6-8b42e4bd29ce",
   "metadata": {},
   "outputs": [
    {
     "name": "stdin",
     "output_type": "stream",
     "text": [
      "Enter a sentence:  i am python god\n"
     ]
    },
    {
     "name": "stdout",
     "output_type": "stream",
     "text": [
      "Number of characters: 15\n",
      "Uppercase: I AM PYTHON GOD\n",
      "Lowercase: i am python god\n",
      "Spaces replaced with underscores: i_am_python_god\n",
      "The word 'Python' is NOT in the sentence.\n"
     ]
    }
   ],
   "source": [
    "sentence = input(\"Enter a sentence: \")\n",
    "\n",
    "char_count = len(sentence)\n",
    "print(\"Number of characters:\", char_count)\n",
    "print(\"Uppercase:\", sentence.upper())\n",
    "\n",
    "print(\"Lowercase:\", sentence.lower())\n",
    "\n",
    "print(\"Spaces replaced with underscores:\", sentence.replace(\" \", \"_\"))\n",
    "if 'Python' in sentence:\n",
    "    print(\"The word 'Python' is in the sentence.\")\n",
    "else:\n",
    "    print(\"The word 'Python' is NOT in the sentence.\")\n",
    "\n"
   ]
  },
  {
   "cell_type": "code",
   "execution_count": null,
   "id": "10308f54-3039-485b-8d80-2ed5bd3e0b71",
   "metadata": {},
   "outputs": [],
   "source": []
  }
 ],
 "metadata": {
  "kernelspec": {
   "display_name": "Python 3 (ipykernel)",
   "language": "python",
   "name": "python3"
  },
  "language_info": {
   "codemirror_mode": {
    "name": "ipython",
    "version": 3
   },
   "file_extension": ".py",
   "mimetype": "text/x-python",
   "name": "python",
   "nbconvert_exporter": "python",
   "pygments_lexer": "ipython3",
   "version": "3.10.12"
  }
 },
 "nbformat": 4,
 "nbformat_minor": 5
}
