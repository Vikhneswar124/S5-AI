{
 "cells": [
  {
   "cell_type": "code",
   "execution_count": 1,
   "id": "266d8ab1-3b8a-4e2b-ab9b-82d978847413",
   "metadata": {
    "scrolled": true
   },
   "outputs": [
    {
     "name": "stdout",
     "output_type": "stream",
     "text": [
      "1\n",
      "2\n",
      "3\n",
      "4\n",
      "5\n",
      "6\n",
      "7\n",
      "8\n",
      "9\n",
      "10\n"
     ]
    }
   ],
   "source": [
    "i=1\n",
    "while i <= 10:\n",
    "\tprint(i)\n",
    "\ti +=1\n"
   ]
  },
  {
   "cell_type": "code",
   "execution_count": 4,
   "id": "db22dbe1-642e-496b-837b-575c09fe5800",
   "metadata": {},
   "outputs": [
    {
     "name": "stdin",
     "output_type": "stream",
     "text": [
      "enter a number: 9\n"
     ]
    },
    {
     "name": "stdout",
     "output_type": "stream",
     "text": [
      "multiplication table of 9:\n",
      "9 x 1 = 9\n",
      "9 x 2 = 18\n",
      "9 x 3 = 27\n",
      "9 x 4 = 36\n",
      "9 x 5 = 45\n",
      "9 x 6 = 54\n",
      "9 x 7 = 63\n",
      "9 x 8 = 72\n",
      "9 x 9 = 81\n",
      "9 x 10 = 90\n"
     ]
    }
   ],
   "source": [
    "num = int(input(\"enter a number:\"))\n",
    "print(f\"multiplication table of {num}:\")\n",
    "for i in range(1,11):\n",
    "    print(f\"{num} x {i} = {num*i}\")"
   ]
  },
  {
   "cell_type": "code",
   "execution_count": 1,
   "id": "7cc93cc2-cffe-47cd-b0d8-aec278b95ff4",
   "metadata": {},
   "outputs": [
    {
     "name": "stdout",
     "output_type": "stream",
     "text": [
      " *\n",
      " **\n",
      " ***\n",
      " ****\n",
      " *****\n"
     ]
    }
   ],
   "source": [
    "rows = 5\n",
    "for i in range(1,rows + 1):\n",
    "    print(\" \" + \"*\" * i )\n",
    "    "
   ]
  },
  {
   "cell_type": "code",
   "execution_count": 4,
   "id": "914ce81f-d3d8-44f6-ae23-a053db808e7c",
   "metadata": {},
   "outputs": [
    {
     "name": "stdout",
     "output_type": "stream",
     "text": [
      "apple\n",
      "orange\n",
      "mango\n",
      "grapes\n",
      "kiwi\n"
     ]
    }
   ],
   "source": [
    "fruits=[\"apple\",\"orange\",\"mango\",\"grapes\",\"kiwi\"]\n",
    "for fruit in fruits:\n",
    "    print(fruit)"
   ]
  },
  {
   "cell_type": "code",
   "execution_count": 5,
   "id": "3e689508-1468-41f1-9af4-d0a54663aa5e",
   "metadata": {},
   "outputs": [
    {
     "name": "stdout",
     "output_type": "stream",
     "text": [
      "Alice scored 85 marks\n",
      "Bob scored 90 marks\n",
      "Charlie scored 78 marks\n"
     ]
    }
   ],
   "source": [
    "students= {\"Alice\":85,\n",
    "           \"Bob\":90,\n",
    "           \"Charlie\":78}\n",
    "for name, marks in students.items():\n",
    "    print(f\"{name} scored {marks} marks\")"
   ]
  },
  {
   "cell_type": "code",
   "execution_count": 6,
   "id": "3728038b-c1ea-4631-9b68-c7b84b5b0937",
   "metadata": {},
   "outputs": [
    {
     "name": "stdout",
     "output_type": "stream",
     "text": [
      "The third item is: 6\n"
     ]
    }
   ],
   "source": [
    "even_numbers = (2, 4, 6, 8, 10)\n",
    "print(\"The third item is:\", even_numbers[2])"
   ]
  },
  {
   "cell_type": "code",
   "execution_count": 7,
   "id": "9a1dce31-7db7-4887-b78d-1c1691ba6a53",
   "metadata": {},
   "outputs": [
    {
     "name": "stdout",
     "output_type": "stream",
     "text": [
      "Unique items in the set: {1, 2, 3, 4, 5}\n"
     ]
    }
   ],
   "source": [
    "numbers = [1, 2, 2, 3, 4, 4, 5]\n",
    "unique_numbers = set(numbers)\n",
    "print(\"Unique items in the set:\", unique_numbers)"
   ]
  },
  {
   "cell_type": "code",
   "execution_count": 8,
   "id": "9d2dd9d6-b667-4ee0-8cd2-f5f1fe41ce5b",
   "metadata": {},
   "outputs": [
    {
     "name": "stdout",
     "output_type": "stream",
     "text": [
      "First 6 characters: Python\n",
      "Last 6 characters: amming\n",
      "Every second character: PtoPormig\n",
      "Reversed string: gnimmargorPnohtyP\n"
     ]
    }
   ],
   "source": [
    "text = \"PythonProgramming\"\n",
    "\n",
    "# Print the first 6 characters\n",
    "print(\"First 6 characters:\", text[:6])\n",
    "\n",
    "# Print the last 6 characters\n",
    "print(\"Last 6 characters:\", text[-6:])\n",
    "\n",
    "# Print every second character\n",
    "print(\"Every second character:\", text[::2])\n",
    "\n",
    "# Reverse the string\n",
    "print(\"Reversed string:\", text[::-1])"
   ]
  },
  {
   "cell_type": "code",
   "execution_count": 9,
   "id": "59ba42b4-b5fa-49b1-baec-aa818f47c038",
   "metadata": {},
   "outputs": [
    {
     "name": "stdout",
     "output_type": "stream",
     "text": [
      "Squares from 1 to 10: [1, 4, 9, 16, 25, 36, 49, 64, 81, 100]\n"
     ]
    }
   ],
   "source": [
    "squares = [x**2 for x in range(1, 11)]\n",
    "print(\"Squares from 1 to 10:\", squares)"
   ]
  },
  {
   "cell_type": "code",
   "execution_count": 10,
   "id": "5289fbb4-be3b-4b0e-8fa4-ff739c4299b8",
   "metadata": {},
   "outputs": [
    {
     "name": "stdout",
     "output_type": "stream",
     "text": [
      "Even numbers from 1 to 50: [2, 4, 6, 8, 10, 12, 14, 16, 18, 20, 22, 24, 26, 28, 30, 32, 34, 36, 38, 40, 42, 44, 46, 48, 50]\n"
     ]
    }
   ],
   "source": [
    "evens = [x for x in range(1, 51) if x % 2 == 0]\n",
    "print(\"Even numbers from 1 to 50:\", evens)\n"
   ]
  },
  {
   "cell_type": "code",
   "execution_count": 11,
   "id": "7814b20d-8b63-436f-b588-fe72d35cd76e",
   "metadata": {},
   "outputs": [
    {
     "name": "stdout",
     "output_type": "stream",
     "text": [
      "Strings longer than 5 characters: ['banana', 'strawberry', 'pineapple']\n"
     ]
    }
   ],
   "source": [
    "words = [\"apple\", \"banana\", \"grape\", \"strawberry\", \"kiwi\", \"pineapple\"]\n",
    "long_words = [word for word in words if len(word) > 5]\n",
    "print(\"Strings longer than 5 characters:\", long_words)"
   ]
  },
  {
   "cell_type": "code",
   "execution_count": 16,
   "id": "cb1a3487-8c6a-4b98-a051-e21d5fb1f146",
   "metadata": {},
   "outputs": [],
   "source": [
    "def is_prime(n):\n",
    "    if n <= 1:\n",
    "        return False\n",
    "    for i in range(2, int(n**0.5) + 1):\n",
    "        if n % i == 0:\n",
    "            return False\n",
    "    return True"
   ]
  },
  {
   "cell_type": "code",
   "execution_count": 17,
   "id": "8423f88e-8da1-42e1-8472-f4b8567ad029",
   "metadata": {},
   "outputs": [
    {
     "name": "stdout",
     "output_type": "stream",
     "text": [
      "True\n",
      "False\n"
     ]
    }
   ],
   "source": [
    "print(is_prime(7))\n",
    "print(is_prime(10))"
   ]
  },
  {
   "cell_type": "code",
   "execution_count": 18,
   "id": "7e468b56-858d-4a84-b97a-d877c07ec2ea",
   "metadata": {},
   "outputs": [],
   "source": [
    "def factorial(n):\n",
    "    if n == 0 or n == 1:\n",
    "        return 1\n",
    "    return n * factorial(n - 1)"
   ]
  },
  {
   "cell_type": "code",
   "execution_count": 19,
   "id": "1b3a4536-4225-46a9-afa1-3d194e9ce6d4",
   "metadata": {},
   "outputs": [
    {
     "name": "stdout",
     "output_type": "stream",
     "text": [
      "120\n"
     ]
    }
   ],
   "source": [
    "print(factorial(5))"
   ]
  },
  {
   "cell_type": "code",
   "execution_count": 20,
   "id": "941e1252-fd34-4017-a816-c327f9f207e0",
   "metadata": {},
   "outputs": [],
   "source": [
    "def sum_list(lst):\n",
    "    return sum(lst)"
   ]
  },
  {
   "cell_type": "code",
   "execution_count": 21,
   "id": "83e1c941-c70c-40d4-b5e3-d25496a2ecbe",
   "metadata": {},
   "outputs": [
    {
     "name": "stdout",
     "output_type": "stream",
     "text": [
      "15\n"
     ]
    }
   ],
   "source": [
    "numbers = [1, 2, 3, 4, 5]\n",
    "print(sum_list(numbers))  "
   ]
  },
  {
   "cell_type": "code",
   "execution_count": 22,
   "id": "27d8ee86-53f6-4345-ae5e-60d1b2e04a58",
   "metadata": {},
   "outputs": [
    {
     "name": "stdout",
     "output_type": "stream",
     "text": [
      "Student 1: Name = Alice , Grade = A\n",
      "Student 2: Name = Bob , Grade = B+\n"
     ]
    }
   ],
   "source": [
    "# 1. Define the class\n",
    "class Student:\n",
    "    \n",
    "    # 2. Constructor to initialize name and grade\n",
    "    def __init__(self, name, grade):\n",
    "        self._name = name\n",
    "        self._grade = grade\n",
    "\n",
    "    # 3. Getter for name\n",
    "    def get_name(self):\n",
    "        return self._name\n",
    "\n",
    "    # Setter for name\n",
    "    def set_name(self, name):\n",
    "        self._name = name\n",
    "\n",
    "    # Getter for grade\n",
    "    def get_grade(self):\n",
    "        return self._grade\n",
    "\n",
    "    # Setter for grade\n",
    "    def set_grade(self, grade):\n",
    "        self._grade = grade\n",
    "\n",
    "# 4. Create two student objects\n",
    "student1 = Student(\"Alice\", \"A\")\n",
    "student2 = Student(\"Bob\", \"B+\")\n",
    "\n",
    "# Print their details using getters\n",
    "print(\"Student 1: Name =\", student1.get_name(), \", Grade =\", student1.get_grade())\n",
    "print(\"Student 2: Name =\", student2.get_name(), \", Grade =\", student2.get_grade())"
   ]
  },
  {
   "cell_type": "code",
   "execution_count": null,
   "id": "a72e41f1-5523-4790-b072-c428b72debde",
   "metadata": {},
   "outputs": [],
   "source": []
  }
 ],
 "metadata": {
  "kernelspec": {
   "display_name": "Python 3 (ipykernel)",
   "language": "python",
   "name": "python3"
  },
  "language_info": {
   "codemirror_mode": {
    "name": "ipython",
    "version": 3
   },
   "file_extension": ".py",
   "mimetype": "text/x-python",
   "name": "python",
   "nbconvert_exporter": "python",
   "pygments_lexer": "ipython3",
   "version": "3.10.12"
  }
 },
 "nbformat": 4,
 "nbformat_minor": 5
}
